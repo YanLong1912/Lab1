{
 "cells": [
  {
   "cell_type": "markdown",
   "metadata": {
    "id": "D6ZKStL_vKHF"
   },
   "source": [
    "# Simulation - Mô phỏng & Dữ liệu\n",
    "\n",
    "Trong bài thực hành này, chúng ta sẽ sử dụng python và numpy để tính toán và thực hiện một số mô phỏng.\n",
    "\n",
    "Những nội dung sẽ thực hiện trong tài liệu này:\n",
    "\n",
    "- Mô phỏng dữ liệu\n",
    "- Kiểm tra dữ liệu\n"
   ]
  },
  {
   "cell_type": "markdown",
   "metadata": {
    "id": "X4KeA4ccvKHF"
   },
   "source": [
    "## MÔ PHỎNG"
   ]
  },
  {
   "cell_type": "markdown",
   "metadata": {
    "id": "Hnpln2tovKHG"
   },
   "source": [
    "### Bài 1: Mô phỏng tung đồng xu cân đối\n",
    "\n",
    "Giả sử một đồng xu có hai mặt `Head` và `Tail`.\n",
    "\n",
    "a. Định nghĩa hàm `toss_a_fair_coin`để mô phỏng việc tung đồng xu. Kết quả trả về là `H` hoặc `T` tương ứng với một trong hai mặt\n",
    "\n",
    "```python\n",
    "def toss_a_fair_coin():\n",
    "    # ...\n",
    "```\n",
    "\n",
    "b. Thực hiện việc tung đồng xu n = 100 lần. Cho biết số lần xuất hiện của mỗi mặt. Lựa chọn đồ thị phù hợp để hiển thị kết quả trên."
   ]
  },
  {
   "cell_type": "code",
   "execution_count": 13,
   "metadata": {
    "id": "IN-k05KhvKHG"
   },
   "outputs": [
    {
     "data": {
      "text/plain": [
       "<BarContainer object of 2 artists>"
      ]
     },
     "execution_count": 13,
     "metadata": {},
     "output_type": "execute_result"
    },
    {
     "data": {
      "image/png": "[encoded data removed]",
      "text/plain": [
       "<Figure size 432x288 with 1 Axes>"
      ]
     },
     "metadata": {
      "needs_background": "light"
     },
     "output_type": "display_data"
    }
   ],
   "source": [
    "#21086591_Đỗ Tiến Lượng_Bài 1\n",
    "import numpy as np\n",
    "import matplotlib.pyplot as plt\n",
    "a = np.random.randint(100, size=100)\n",
    "\n",
    "def toss_a_fair_coin(xu):\n",
    "    if xu < 0.5:\n",
    "        return 'H'\n",
    "    else:\n",
    "        return 'T'\n",
    "\n",
    "kqH = 0\n",
    "kqT = 0\n",
    "\n",
    "for i in a:\n",
    "    if(toss_a_fair_coin(i/100)) == 'H':\n",
    "        kqH += 1\n",
    "    else:\n",
    "        kqT += 1\n",
    "        \n",
    "column = ([kqH, kqT])\n",
    "cate = (['H', 'T'])\n",
    "\n",
    "plt.bar(cate, column)\n",
    "plt.title(\"Bảng giá trị tần suất\")\n",
    "plt.show()\n",
    "\n"
   ]
  },
  {
   "cell_type": "markdown",
   "metadata": {
    "id": "jBtN_QeZvKHG"
   },
   "source": [
    "### Bài 2: Mô phỏng tung đồng xu không cân đối\n",
    "\n",
    "Giả sử có một đồng xu với hai mặt `H` và `T` không cân đối, với xác suất thu được mặt Head là 0.6, xác suất thu được mặt Tail là 0.4. Bạn hãy:\n",
    "\n",
    "a. Định nghĩa hàm `toss_a_biased_coin`để mô phỏng việc tung đồng xu. Kết quả trả về là `H` hoặc `T` tương ứng với một trong hai mặt\n",
    "\n",
    "```python\n",
    "def toss_a_biased_coin(head_prob):\n",
    "    '''\n",
    "    Tung đồng xu không cân đối.\n",
    "    Return: 'H' or 'T'\n",
    "        head_prob: xác suất thu được mặt Head\n",
    "    '''\n",
    "    # ...\n",
    "```\n",
    "\n",
    "b. Thực hiện việc tung đồng xu n = 100 lần. Cho biết số lần xuất hiện của mỗi mặt. Tính tỷ lệ xuất hiện của mặt Head và Tail. Lựa chọn đồ thị phù hợp để hiển thị kết quả trên.\n",
    "\n",
    "c. Thực hiện việc tung đồng xu n = 10000 lần. Cho biết số lần xuất hiện của mỗi mặt. Tính tỷ lệ xuất hiện của mặt Head và Tail. Lựa chọn đồ thị phù hợp để hiển thị kết quả trên.\n",
    "\n",
    "d. Bạn có nhận xét gì?"
   ]
  },
  {
   "cell_type": "code",
   "execution_count": 46,
   "metadata": {
    "id": "AMm1v6VTvKHG"
   },
   "outputs": [
    {
     "name": "stdout",
     "output_type": "stream",
     "text": [
      "1000\n",
      "Số lần ra mặt H:  580\n",
      "Số lần ra mặt T:  420\n",
      "Tỉ lệ ra mặt H:  58.0 %\n",
      "Tỉ lệ ra mặt T:  42.0 %\n"
     ]
    },
    {
     "data": {
      "image/png": "[encoded data removed]",
      "text/plain": [
       "<Figure size 432x288 with 1 Axes>"
      ]
     },
     "metadata": {},
     "output_type": "display_data"
    },
    {
     "name": "stdout",
     "output_type": "stream",
     "text": [
      "Dù thử bao nhiêu lần thì H vẫn sẽ cao hơn\n"
     ]
    }
   ],
   "source": [
    "#21086591_Đỗ Tiến Lượng_Bài 2\n",
    "import numpy as np\n",
    "import matplotlib.pyplot as plt\n",
    "\n",
    "def TungDongXu(H_value):\n",
    "    return 'H' if np.random.random() < H_value else 'T' #phai la np.random.random()\n",
    "h_value = 0.6\n",
    "TungDongXu(h_value)\n",
    "def tungNlan(n):\n",
    "    h_value = 0.6\n",
    "    soLanH = 0\n",
    "    soLanT = 0\n",
    "    for i in range(n):\n",
    "        if(TungDongXu(h_value)=='H'):\n",
    "            soLanH += 1\n",
    "        else:\n",
    "            soLanT += 1\n",
    "    print(\"Số lần ra mặt H: \" , soLanH)\n",
    "    print(\"Số lần ra mặt T: \" , soLanT)\n",
    "    print(\"Tỉ lệ ra mặt H: \", round((soLanH/n)*100,2),\"%\")\n",
    "    print(\"Tỉ lệ ra mặt T: \", round((soLanT/n)*100,2),\"%\")\n",
    "    \n",
    "    #print(f\"Tỉ lệ ra mặt H: {(soLanH/n)*100:.2f}%\")\n",
    "    #print(f\"Tỉ lệ ra mặt T: {(soLanT/n)*100:.2f}%\")\n",
    "    \n",
    "    # đồ thị tròn để hiện tỉ lệ:\n",
    "    value = ([soLanH, soLanT])\n",
    "    cate = (['Tỉ lệ H', 'Tỉ lệ T'])\n",
    "    plt.pie(value, labels=cate)\n",
    "    plt.title(\"Bảng giá trị tần suất\")\n",
    "    plt.legend()\n",
    "    plt.show()\n",
    "    \n",
    "\n",
    "    \n",
    "n = int(input())\n",
    "tungNlan(n)\n",
    "    \n",
    "            \n",
    "print(\"Dù thử bao nhiêu lần thì H vẫn sẽ cao hơn\")"
   ]
  },
  {
   "cell_type": "markdown",
   "metadata": {
    "id": "qv-_V9GTvKHH"
   },
   "source": [
    "### Bài 3: Khảo sát hàm randint()\n",
    "\n",
    "Hàm `randint()`dùng để phát sinh số nguyên ngẫu nhiên. Tuy nhiên, các kết quả ngẫu nhiên này có quy luật nào hay không, liệu ta có thể tin tưởng để sử dụng hàm này không? Trong ví dụ này bạn hãy thực hiện mô phỏng sau: phát sinh `n` số số ngẫu nhiên trong đoạn [1..40]. Với mỗi lần phát sinh bạn hãy vẽ histogram về `tần suất` xuất hiện của mỗi số.\n",
    "\n",
    "a. Hãy vẽ đồ thị `tần suất` xuất hiện của các số với n=40, n=100, n=10000, n=1000000\n",
    "\n",
    "b. Hãy đưa ra nhận xét của bạn về hàm `randint()`\n",
    "\n"
   ]
  },
  {
   "cell_type": "code",
   "execution_count": 44,
   "metadata": {
    "id": "NmDO_M1TvKHH"
   },
   "outputs": [
    {
     "name": "stdout",
     "output_type": "stream",
     "text": [
      "Nhập giá trị n: 1000\n"
     ]
    },
    {
     "data": {
      "image/png": "[encoded data removed]",
      "text/plain": [
       "<Figure size 432x288 with 1 Axes>"
      ]
     },
     "metadata": {
      "needs_background": "light"
     },
     "output_type": "display_data"
    }
   ],
   "source": [
    "#21086591_Đỗ Tiến Lượng_Bài 3\n",
    "import numpy as np\n",
    "import matplotlib.pyplot as plt\n",
    "\n",
    "def TanSuatRandint(n):\n",
    "    data = np.random.randint(1,41, size=n)\n",
    "    plt.hist(data, bins = 40, rwidth=0.5)\n",
    "    plt.xlim(1,40)\n",
    "    plt.xlabel(\"Giá trị\")\n",
    "    plt.ylabel(\"Tần suất\")\n",
    "    plt.title(\"Bảng giá trị tần suất\")\n",
    "    plt.show()\n",
    "    \n",
    "n = int(input(\"Nhập giá trị n: \"))\n",
    "TanSuatRandint(n)\n"
   ]
  },
  {
   "cell_type": "markdown",
   "metadata": {
    "id": "o423-JokvKHH"
   },
   "source": [
    "### Bài 4: Mô phỏng cách chọn mẫu\n",
    "\n",
    "Trong bài tập này ta sẽ mô phỏng cách lấy mẫu từ một tập đã có sẵn.\n",
    "\n",
    "a. Sử dụng hàm `randint()` để tạo 10 số ngẫu nhiên nằm trong đoạn [1..100]. Lưu kết quả vào biến `my_arr`\n",
    "\n",
    "b. Sử dụng hàm `choice` để lấy ngẫu nhiên 5 phần tử từ mảng `my_arr`.\n",
    "\n",
    "c. Thực hiện câu b, 10 lần. Với mỗi lần bạn hãy hiển thị 5 phần tử được chọn, tính giá trị trung bình và độ lệch chuẩn của các phần tử ấy"
   ]
  },
  {
   "cell_type": "code",
   "execution_count": 69,
   "metadata": {
    "id": "8C0TDs4bvKHH"
   },
   "outputs": [
    {
     "name": "stdout",
     "output_type": "stream",
     "text": [
      "a. Danh sách mảng randint() tạo là:  [98 25 34 12 73 95  6  1 85 29]\n",
      "b. Danh sách mảng lấy ngẫu nhiên từ mảng my_arr:  [29 95 25 25  6]\n",
      "c. Danh sách mảng lấy ngẫu nhiên từ mảng my_arr 10 lần: \n",
      "Danh sách lần 0 là [95  1 85 34 12] với giá trị trung bình = 45.4 và độ lệch chuẩn = 38.07\n",
      "Danh sách lần 1 là [ 6 98  6 34 98] với giá trị trung bình = 48.4 và độ lệch chuẩn = 41.77\n",
      "Danh sách lần 2 là [34  6 12 29 34] với giá trị trung bình = 23.0 và độ lệch chuẩn = 11.73\n",
      "Danh sách lần 3 là [73  1 73 85 95] với giá trị trung bình = 65.4 và độ lệch chuẩn = 33.24\n",
      "Danh sách lần 4 là [34 25  1 12  1] với giá trị trung bình = 14.6 và độ lệch chuẩn = 13.12\n",
      "Danh sách lần 5 là [ 6 95 34 34  6] với giá trị trung bình = 35.0 và độ lệch chuẩn = 32.51\n",
      "Danh sách lần 6 là [ 6 29 34 95 98] với giá trị trung bình = 52.4 và độ lệch chuẩn = 37.24\n",
      "Danh sách lần 7 là [85 73 85 85  6] với giá trị trung bình = 66.8 và độ lệch chuẩn = 30.75\n",
      "Danh sách lần 8 là [73  1 85 34 34] với giá trị trung bình = 45.4 và độ lệch chuẩn = 30.20\n",
      "Danh sách lần 9 là [85  6 12 85 95] với giá trị trung bình = 56.6 và độ lệch chuẩn = 39.08\n"
     ]
    }
   ],
   "source": [
    "#21086591_Đỗ Tiến Lượng_Bài 4\n",
    "import numpy as np\n",
    "import matplotlib.pyplot as plt\n",
    "\n",
    "my_arr = np.random.randint(1,100, size=10)\n",
    "print(\"a. Danh sách mảng randint() tạo là: \", my_arr)\n",
    "choice_arr = np.random.choice(my_arr, size=5)\n",
    "print(\"b. Danh sách mảng lấy ngẫu nhiên từ mảng my_arr: \", choice_arr)\n",
    "print(\"c. Danh sách mảng lấy ngẫu nhiên từ mảng my_arr 10 lần: \")\n",
    "for i in range(10):\n",
    "    choice_arr = np.random.choice(my_arr, size=5)\n",
    "    print(f'Danh sách lần {i} là {choice_arr} với giá trị trung bình = {np.mean(choice_arr)} và độ lệch chuẩn = {np.std(choice_arr):.2f}')"
   ]
  },
  {
   "cell_type": "markdown",
   "metadata": {
    "id": "keInxb9lvKHH"
   },
   "source": [
    "### Bài 5 Kiểm tra mảng phát sinh\n",
    "\n",
    "Giả sử chiều cao của người trưởng thành dao động từ 140cm - 210cm.\n",
    "\n",
    "a. Bạn hãy phát sinh ngẫu nhiên chiều cao của 1000 người và lưu vào mảng `heights`\n",
    "\n",
    "b. Giả sử ta quy định mức chiều cao như sau:\n",
    "\n",
    "- Mức thấp: chiều cao bé hơn 160cm\n",
    "- Mức bình thường: chiều cao từ 160 đến bé hơn 175cm\n",
    "- Mức cao: chiều cao từ 175cm đến bé hơn 190cm\n",
    "- Mức rất cao: chiều cao từ 190cm trở lên\n",
    "\n",
    "Từ mảng đã phát sinh bạn hãy tính tỷ lệ mỗi mức. Lựa chọn đồ thị phù hợp để biểu diễn."
   ]
  },
  {
   "cell_type": "code",
   "execution_count": 85,
   "metadata": {
    "id": "6g-N4zErvKHH"
   },
   "outputs": [
    {
     "name": "stdout",
     "output_type": "stream",
     "text": [
      "252, 207, 239, 302\n"
     ]
    },
    {
     "data": {
      "image/png": "[encoded data removed]",
      "text/plain": [
       "<Figure size 432x288 with 1 Axes>"
      ]
     },
     "metadata": {},
     "output_type": "display_data"
    }
   ],
   "source": [
    "#21086591_Đỗ Tiến Lượng_Bài 5\n",
    "import numpy as np\n",
    "import matplotlib.pyplot as plt\n",
    "\n",
    "heights_array = np.random.randint(140,211, size=1000)\n",
    "#print(heights_array)\n",
    "thap = 0\n",
    "binhthuong = 0\n",
    "cao = 0\n",
    "ratcao = 0\n",
    "for i in heights_array:\n",
    "    if(i < 160):\n",
    "        thap += 1\n",
    "    elif(i>=160 and i < 175):\n",
    "        binhthuong += 1\n",
    "    elif(i>=175 and i< 190):\n",
    "        cao += 1\n",
    "    else:\n",
    "        ratcao += 1\n",
    "print(f'{thap}, {binhthuong}, {cao}, {ratcao}')\n",
    "\n",
    "# đồ thị tròn để hiện tỉ lệ:\n",
    "value = ([thap, binhthuong, cao , ratcao])\n",
    "cate = (['Thấp', 'Bình Thường', 'Cao', 'Rất Cao'])\n",
    "plt.pie(value, labels=cate, autopct='%1.1f%%', startangle=90)\n",
    "plt.title(\"Bảng giá trị tần suất chiều cao của 1000 người\")\n",
    "plt.show()\n"
   ]
  },
  {
   "cell_type": "markdown",
   "metadata": {
    "id": "5EqMXYsFvKHH"
   },
   "source": [
    "## DỮ LIỆU"
   ]
  },
  {
   "cell_type": "markdown",
   "metadata": {
    "id": "gTi6P2QzvKHH"
   },
   "source": [
    "### Bài 6: dataset `temperature.csv`\n",
    "\n",
    "Bạn hãy tìm cách đọc dữ liệu về nhiệt độ của các tỉnh thành trên với thư viện `numpy`.\n",
    "\n",
    "a. Với mỗi tỉnh thành bạn hãy cho biết: nhiệt độ thấp nhất, nhiệt độ cao nhất, nhiệt độ trung bình, độ lệch chuẩn, độ biến thiên về nhiệt độ (`range=max-min`)\n",
    "\n",
    "b. Vẽ histogram nhiệt độ của TP.HCM\n",
    "\n",
    "c. Lựa chọn đồ thị để so sánh nhiệt độ của 6 tỉnh thành"
   ]
  },
  {
   "cell_type": "code",
   "execution_count": 97,
   "metadata": {
    "id": "q8tra_hEvKHH"
   },
   "outputs": [
    {
     "name": "stdout",
     "output_type": "stream",
     "text": [
      "[[  nan   nan   nan   nan   nan   nan   nan]\n",
      " [  nan 25.65 24.79 24.01 25.06 25.48 24.97]\n",
      " [  nan 25.31 24.21 24.02 24.93 25.16 24.83]\n",
      " [  nan 25.05 23.73 23.89 24.79 24.8  24.55]\n",
      " [  nan 24.79 23.36 23.83 24.84 24.74 24.48]\n",
      " [  nan 24.59 23.05 23.69 24.82 24.8  24.38]\n",
      " [  nan 30.8  22.8  23.52 24.79 24.87 24.4 ]\n",
      " [  nan 24.38 22.79 23.68  2.51 24.71 24.41]\n",
      " [  nan 26.72 25.61 24.92 26.56 25.03 24.91]\n",
      " [  nan 28.84 26.93 26.51 26.53 25.75 25.85]\n",
      " [  nan 30.29 28.72 27.48 26.95 26.64 26.79]\n",
      " [  nan 31.35 29.97 26.96 27.23 27.68 27.53]\n",
      " [  nan 32.05 28.93 26.86 27.38 28.43 28.98]\n",
      " [  nan 31.31 28.94 26.65 27.47 28.29 29.24]\n",
      " [  nan 30.95 30.25 27.83 27.44 58.   30.66]\n",
      " [  nan 30.56 30.62 26.49 27.16 27.67 30.97]\n",
      " [  nan 31.13 30.58 26.29 26.68 27.29 30.59]\n",
      " [  nan 30.8  30.2  26.6  26.45 27.29 29.13]\n",
      " [  nan 29.94 29.36 25.8  26.67 26.69 28.72]\n",
      " [  nan 28.53 27.48 24.82 25.92 25.81 27.46]\n",
      " [  nan 28.89 27.03 24.93 25.88 25.93 27.07]\n",
      " [  nan 28.06 26.41 24.7  25.7  25.97 26.75]\n",
      " [  nan 27.43 26.2  24.41 25.62 25.94 26.32]\n",
      " [  nan 26.98 25.79 24.17 25.6  25.9  26.29]\n",
      " [  nan 26.68 25.31 23.81 25.53 25.8  26.36]]\n"
     ]
    }
   ],
   "source": [
    "# Sử dụng loadtxt để đọc file CSV  \n",
    "data = np.genfromtxt(r'T:\\DoTienLuong_21086591\\datasets\\datasets\\temperature.csv', delimiter=',')  \n",
    "print(data)  "
   ]
  },
  {
   "cell_type": "markdown",
   "metadata": {
    "id": "j64gVRmpvKHH"
   },
   "source": [
    "### Bài 7: dataset `bmi.csv`\n",
    "\n",
    "Bạn hãy tìm cách đọc dữ liệu về bmi của nhóm người khảo sát trên với thư viện `numpy`.\n",
    "\n",
    "a. Hãy cho biết:\n",
    "    - Tỷ lệ nam nữ\n",
    "    - Các đại lượng thống kê: min, max, range, mean, standard deviation của hai thuộc tính chiều cao và cân nặng\n",
    "\n",
    "b. Vẽ đồ thị histogram về chiều cao và cân nặng của hai thuộc tính chiều cao và cân nặng\n",
    "\n",
    "c. Sử dụng hai đồ thị boxplot để so sánh chiều cao và cân nặng của nam và nữ\n",
    "\n",
    "d. Để kiểm tra xem hai thuộc tính chiều cao và cân nặng có mối liên quan nào hay không, bạn có thể sử dụng đồ thị tán xạ (scatter plot). Giả sử muốn kiểm tra xem liệu một người cao hơn thì có cân nặng lớn hơn hay không, bạn hãy vẽ đồ thị scatter plot với trục hoành là chiều cao và trục tung là cân nặng"
   ]
  },
  {
   "cell_type": "code",
   "execution_count": null,
   "metadata": {
    "id": "Wha8UU3FvKHI"
   },
   "outputs": [],
   "source": [
    "# YOUR CODE HERE\n"
   ]
  },
  {
   "cell_type": "markdown",
   "metadata": {
    "id": "DlwD1b9VvKHI"
   },
   "source": [
    "## KHÁC"
   ]
  },
  {
   "cell_type": "markdown",
   "metadata": {
    "id": "YCbi3FdnvKHI"
   },
   "source": [
    "### Bài 8: Mô phỏng điểm bài kiểm tra\n",
    "\n",
    "Giả sử điểm bài kiểm tra của học sinh có điểm môn Toán [0..10], với các phần lẻ có thể có là [0.25, 0.5, 0.75]\n",
    "\n",
    "a. Dùng hàm ngẫu nhiên để phát sinh điểm số của một lớp học gồm của 10 học sinh. Tính điểm trung bình của lớp đó.\n",
    "\n",
    "b. Giả sử một trường có 50 lớp học. Mỗi lớp học có 40 học sinh. Bạn hãy phát sinh ngẫu nhiên điểm của các học sinh trong 50 lớp học này\n",
    "\n",
    "c. Giả sử nhà trường muốn thống kê tình hình học tập của 50 lớp học này. Nhà trường tiến hành thống kê bằng cách lấy điểm trung bình của tất cả các lớp học. Bạn hãy vẽ histogram điểm trung bình của 50 lớp học này."
   ]
  },
  {
   "cell_type": "code",
   "execution_count": null,
   "metadata": {
    "id": "1CVBaNkYvKHI"
   },
   "outputs": [],
   "source": [
    "# YOUR CODE HERE\n"
   ]
  },
  {
   "cell_type": "markdown",
   "metadata": {
    "id": "K667oak7vKHI"
   },
   "source": [
    "\n",
    "### Bài 9: Mô phỏng bốc ba lá bài\n",
    "\n",
    "Một bộ bài tú lơ khơ có 52 lá. Với:\n",
    "    - Tập các nút là {2, 3,..10, J, Q, K, A}\n",
    "    - Tập các chất là {'co', 'ro', 'chuong', 'bich`}\n",
    "\n",
    "Bạn hãy mô phỏng:\n",
    "\n",
    "a. Bốc 3 lá bài từ bộ bài trên. Lưu ý: không có trường hợp 1 bộ bài có hai lá trùng nhau\n",
    "\n",
    "b. Tính điểm thu được (tổng điểm 3 lá)\n",
    "\n",
    "c. Tìm hiểu cách hiển thị hình ảnh 3 lá bài đã bốc bằng python"
   ]
  },
  {
   "cell_type": "code",
   "execution_count": null,
   "metadata": {
    "id": "yWZpNyF8vKHI"
   },
   "outputs": [],
   "source": [
    "# YOUR CODE HERE\n"
   ]
  },
  {
   "cell_type": "markdown",
   "metadata": {
    "id": "iQrUKVk2vKHI"
   },
   "source": [
    "\n",
    "### Bài 10: Mô phỏng Monte Carlo để ước lượng π\n",
    "\n",
    "Ước lượng giá trị của π bằng phương pháp Monte Carlo. Ý tưởng là tạo ngẫu nhiên các điểm trong một hình vuông và xác định tỷ lệ các điểm nằm trong một phần tư hình tròn.\n",
    "\n",
    "Công việc:\n",
    "\n",
    "Tạo 100.000 điểm ngẫu nhiên (x, y) trong một hình vuông đơn vị.\n",
    "Đếm số điểm nằm trong phần tư hình tròn có bán kính 1.\n",
    "Ước lượng π bằng công thức: 4 * (số điểm trong hình tròn) / (tổng số điểm)."
   ]
  },
  {
   "cell_type": "code",
   "execution_count": null,
   "metadata": {
    "id": "sQbm_9lKvKHI"
   },
   "outputs": [],
   "source": [
    "# YOUR CODE HERE\n"
   ]
  },
  {
   "cell_type": "markdown",
   "metadata": {
    "id": "MXAFIeBivKHI"
   },
   "source": [
    "---"
   ]
  }
 ],
 "metadata": {
  "colab": {
   "provenance": []
  },
  "kernelspec": {
   "display_name": "Python 3",
   "language": "python",
   "name": "python3"
  },
  "language_info": {
   "codemirror_mode": {
    "name": "ipython",
    "version": 3
   },
   "file_extension": ".py",
   "mimetype": "text/x-python",
   "name": "python",
   "nbconvert_exporter": "python",
   "pygments_lexer": "ipython3",
   "version": "3.8.5"
  }
 },
 "nbformat": 4,
 "nbformat_minor": 1
}
